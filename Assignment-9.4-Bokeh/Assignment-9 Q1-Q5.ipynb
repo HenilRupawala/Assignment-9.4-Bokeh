{
 "cells": [
  {
   "cell_type": "markdown",
   "id": "040834ad-7c60-4615-8da2-5992e9f2c5af",
   "metadata": {},
   "source": [
    "##### Q1. How can you create a Bokeh plot using Python code?"
   ]
  },
  {
   "cell_type": "markdown",
   "id": "7079bc90-e134-4881-a3df-910a1321bc86",
   "metadata": {},
   "source": [
    "To create a Bokeh plot using Python code, you typically follow these steps:\n",
    "\n",
    "**1. Import Necessary Modules:** Import the necessary modules from the Bokeh library.\n",
    "\n",
    "**2. Prepare Data:** Prepare your data that you want to visualize in the plot.\n",
    "\n",
    "**3. Create a Figure:** Create a figure object using the **figure()** function. This figure will serve as the canvas for your plot.\n",
    "\n",
    "**4. Add Glyphs:** Add glyphs (visual representations of data) to the figure using methods like **circle(), line(), rect(),** etc. You provide data and other properties to these methods to customize the appearance of the glyphs.\n",
    "\n",
    "**5. Customize Plot:** Customize various aspects of the plot such as title, axis labels, grid lines, and more.\n",
    "\n",
    "**6. Show or Save the Plot:** Finally, use the **show()** function to display the plot in a browser or use the **save()** function to save the plot as an HTML file.\n",
    "\n",
    "Here's a simple example that demonstrates how to create a basic Bokeh plot:"
   ]
  },
  {
   "cell_type": "code",
   "execution_count": 2,
   "id": "df201230-68ec-431c-b80f-73e1ffde1e7d",
   "metadata": {},
   "outputs": [],
   "source": []
  },
  {
   "cell_type": "markdown",
   "id": "2010369d-4e2f-4e71-9bbe-59febb4056f8",
   "metadata": {},
   "source": [
    "##### Q2. What are glyphs in Bokeh, and how can you add them to a Bokeh plot? Explain with an example."
   ]
  },
  {
   "cell_type": "markdown",
   "id": "e17a7397-117e-40a4-b848-2e3fea62fa30",
   "metadata": {},
   "source": [
    "In Bokeh, glyphs are the visual representations of data on a plot. They are the geometric shapes, symbols, or lines that correspond to the data points you want to display. Glyphs are used to create visualizations such as scatter plots, line charts, bar charts, and more. Each type of visualization requires different types of glyphs.\n",
    "\n",
    "To add glyphs to a Bokeh plot, you use glyph methods provided by the Bokeh library. These methods create and customize the appearance of the glyphs based on your data and the properties you specify.\n",
    "\n",
    "Here's an example of adding glyphs to a Bokeh plot to create a scatter plot:"
   ]
  },
  {
   "cell_type": "code",
   "execution_count": 19,
   "id": "9543dc52-3893-4d6f-947d-a7ed262e7c92",
   "metadata": {},
   "outputs": [],
   "source": [
    "import bokeh.io\n",
    "from bokeh.plotting import figure, output_file, show\n",
    "bokeh.io.output_notebook()\n",
    "\n",
    "x = [1, 2, 3, 4, 5]\n",
    "y = [6, 7, 2, 4, 8]\n",
    "\n",
    "output_file = ('test.html')\n",
    "p = figure(title=\"Simple Bokeh Plot\")\n",
    "\n",
    "p.circle(x, y, size=10, color=\"blue\", alpha=0.5)\n",
    "\n",
    "p.xaxis.axis_label = \"X-axis\"\n",
    "p.yaxis.axis_label = \"Y-axis\"\n",
    "p.grid.grid_line_color = \"gray\"\n",
    "\n",
    "show(p)"
   ]
  },
  {
   "attachments": {
    "bbccaad8-7eeb-4125-90d4-84ed6fa07c46.png": {
     "image/png": "[encoded data removed]"
    }
   },
   "cell_type": "markdown",
   "id": "0eb12a56-4503-4175-a588-24e0f5f2cf5b",
   "metadata": {},
   "source": [
    "![Q2.png](attachment:bbccaad8-7eeb-4125-90d4-84ed6fa07c46.png)"
   ]
  },
  {
   "cell_type": "markdown",
   "id": "e36289ca-9e2e-4c72-8121-3d349d8589b6",
   "metadata": {},
   "source": [
    "In this example, we follow these steps:\n",
    "\n",
    "**1. Prepare Data:** We create two lists **'x'** and **'y'** to represent the data points.\n",
    "\n",
    "**2. Create a Figure:** We create a figure using **'figure()'** and provide a title for the plot.\n",
    "\n",
    "**3. Add Circle Glyphs:** We use the **'circle()'** method to add circle glyphs to the figure. The **'x'** and **'y'** arguments provide the data, and **'size'**, **'color'**, and **'alpha'** are used to customize the appearance of the circles.\n",
    "\n",
    "**4. Customize Plot Properties:** We set properties like axis labels and grid color to customize the appearance of the plot.\n",
    "\n",
    "**5. Show the Plot:** Finally, we use **'show()'** to display the plot in a browser.\n",
    "\n",
    "In this example, we added circle glyphs to create a scatter plot. Other glyph methods such as **'line()', 'rect()', 'triangle()',** etc., can be used to create different types of visualizations. The glyph methods take various arguments to customize the appearance of the glyphs, such as data, colors, sizes, and more."
   ]
  },
  {
   "cell_type": "code",
   "execution_count": null,
   "id": "eb6272cd-cbce-4074-ad2d-b087d452a833",
   "metadata": {},
   "outputs": [],
   "source": []
  },
  {
   "cell_type": "markdown",
   "id": "fef285d4-60bf-486d-ab01-b01dc06184b4",
   "metadata": {},
   "source": [
    "##### Q3. How can you customize the appearance of a Bokeh plot, including the axes, title, and legend?"
   ]
  },
  {
   "cell_type": "markdown",
   "id": "31613dd5-37e0-4f06-b5ae-5559745fd051",
   "metadata": {},
   "source": [
    "You can customize the appearance of a Bokeh plot, including the axes, title, and legend, by using various properties and methods provided by the Bokeh library. Here's how you can customize different aspects of a Bokeh plot:\n",
    "\n",
    "**1. Title and Subtitle:** You can customize the title and subtitle of the plot using the **'title'** and **'subtitle'** attributes of the figure object."
   ]
  },
  {
   "cell_type": "code",
   "execution_count": 5,
   "id": "dc4b7c6f-a9d3-46e6-b73b-de2c8bb340a4",
   "metadata": {},
   "outputs": [],
   "source": [
    "import bokeh.io\n",
    "from bokeh.plotting import figure, output_file, show\n",
    "bokeh.io.output_notebook()\n",
    "\n",
    "# Create a figure\n",
    "p = figure(title=\"Customizing Bokeh Plot\", subtitle=\"Subtitle\")\n",
    "\n",
    "# Add glyphs or other plot components...\n",
    "\n",
    "# Show the plot\n",
    "show(p)"
   ]
  },
  {
   "cell_type": "markdown",
   "id": "83193619-d94a-48ac-b39b-8087b2e2a063",
   "metadata": {},
   "source": [
    "**2. Axes Labels:** Customize the labels of the x and y axes using the **'xaxis.axis_label'** and **'yaxis.axis_label'** attributes."
   ]
  },
  {
   "cell_type": "code",
   "execution_count": null,
   "id": "2ab8397e-7514-47ac-a645-b5e7df3262d0",
   "metadata": {},
   "outputs": [],
   "source": [
    "p.xaxis.axis_label = \"X-axis Label\"\n",
    "p.yaxis.axis_label = \"Y-axis Label\""
   ]
  },
  {
   "cell_type": "markdown",
   "id": "b78ca107-b70d-48c0-8ed3-2c6716430461",
   "metadata": {},
   "source": [
    "**3. Legend:** To customize the legend, you can add legend labels to the glyph methods, then use the **'legend'** attribute to customize the appearance of the legend."
   ]
  },
  {
   "cell_type": "code",
   "execution_count": null,
   "id": "12c1260e-ce0a-4205-9d74-d312ef950753",
   "metadata": {},
   "outputs": [],
   "source": [
    "# Add glyphs with legend labels\n",
    "p.circle(x, y, size=10, color=\"blue\", legend_label=\"Data Points\")\n",
    "\n",
    "# Customize the legend\n",
    "p.legend.title = \"Legend Title\"\n",
    "p.legend.label_text_font_size = \"12pt\"\n",
    "p.legend.background_fill_alpha = 0.8"
   ]
  },
  {
   "cell_type": "markdown",
   "id": "0ad858fc-af19-4745-b36b-f9853d220073",
   "metadata": {},
   "source": [
    "**4. Grid Lines and Background:** You can customize grid lines and background colors using attributes like **grid.grid_line_color** and **plot.background_fill_color**."
   ]
  },
  {
   "cell_type": "code",
   "execution_count": null,
   "id": "7acceff0-5721-426f-bd9d-1954b4810d11",
   "metadata": {},
   "outputs": [],
   "source": [
    "p.grid.grid_line_color = \"gray\"\n",
    "p.background_fill_color = \"lightgray\""
   ]
  },
  {
   "cell_type": "markdown",
   "id": "e9a03ae8-6853-40dd-ace8-d62914074535",
   "metadata": {},
   "source": [
    "**5. Text Formatting:** Customize text formatting using various attributes like **'title.text_font'**, **'axis.axis_label_text_font'**, etc."
   ]
  },
  {
   "cell_type": "code",
   "execution_count": null,
   "id": "2e371c1d-cc4f-47cf-8bbb-ec3f34fd51f9",
   "metadata": {},
   "outputs": [],
   "source": [
    "p.title.text_font = \"Arial\"\n",
    "p.axis.axis_label_text_font = \"Helvetica\""
   ]
  },
  {
   "cell_type": "markdown",
   "id": "a713f1d1-62b8-4e38-9f1d-b82c18b33235",
   "metadata": {},
   "source": [
    "**6. Size and Color:** Adjust the size and color of various plot components, such as glyphs, using attributes like **'size'**, **'color'**, **'line_color'**, etc."
   ]
  },
  {
   "cell_type": "code",
   "execution_count": null,
   "id": "40375546-d277-4d51-af39-b3ecdb521670",
   "metadata": {},
   "outputs": [],
   "source": [
    "p.circle(x, y, size=10, color=\"blue\", alpha=0.5)\n",
    "p.line(x, y, line_width=2, line_color=\"green\")"
   ]
  },
  {
   "cell_type": "code",
   "execution_count": null,
   "id": "41c6379a-abec-4ad1-9fe5-9050ac252932",
   "metadata": {},
   "outputs": [],
   "source": []
  },
  {
   "cell_type": "markdown",
   "id": "9d747112-0a2e-4e5e-a548-bbd172721cc7",
   "metadata": {},
   "source": [
    "##### Q4. What is a Bokeh server, and how can you use it to create interactive plots that can be updated in real time?"
   ]
  },
  {
   "cell_type": "markdown",
   "id": "a78c4c76-c537-44b7-b516-86e613744e65",
   "metadata": {},
   "source": [
    "A Bokeh server is a powerful feature of the Bokeh library that allows you to create interactive web applications with real-time updates. With Bokeh server, you can build dynamic and interactive plots, dashboards, and applications that can respond to user interactions and data changes in real time.\n",
    "\n",
    "Bokeh server works by combining Python code for generating plots and user interfaces with a WebSocket-based communication protocol. This enables the server to push updates to the client browser whenever there's a change in data or user interactions. This real-time communication between the server and the client browser allows for seamless interactivity and updates without needing to reload the entire page.\n",
    "\n",
    "Here's a general overview of how you can use Bokeh server to create interactive plots that update in real time:\n",
    "\n",
    "**1. Define Data and Layout:** Create the data and layout for your plot using the Bokeh library.\n",
    "\n",
    "**2. Import Bokeh Modules:** Import the necessary Bokeh modules, including curdoc (the document that the server will manage), and the specific glyph functions you need.\n",
    "\n",
    "**3. Define Callbacks:** Define callback functions that will update the data or properties of your plot in response to user interactions or other events. You can use the @count() decorator to automatically increment a counter each time the function is called.\n",
    "\n",
    "**4. Add Widgets:** If needed, add widgets like sliders, buttons, or text inputs to the plot to allow user interactions that trigger the callbacks.\n",
    "\n",
    "**5. Update the Document:** Inside the callback functions, update the document using the curdoc() function. You can update the data source of your plot, modify plot properties, or adjust the layout.\n",
    "\n",
    "**6. Run the Server:** To run the Bokeh server, use the bokeh serve command in the terminal followed by the filename of your Python script. This starts a server that handles the real-time communication between the server and the client browser.\n",
    "\n",
    "Here's a simplified example of using Bokeh server to create a real-time updating scatter plot:"
   ]
  },
  {
   "cell_type": "code",
   "execution_count": 18,
   "id": "753b5585-49b2-41e8-823a-a7f9e7d828fa",
   "metadata": {},
   "outputs": [],
   "source": [
    "from bokeh.plotting import figure, curdoc\n",
    "from bokeh.models import ColumnDataSource\n",
    "from bokeh.models.widgets import Button\n",
    "from bokeh.layouts import column\n",
    "from bokeh.io import push_notebook\n",
    "import numpy as np\n",
    "\n",
    "x = np.random.rand(10)\n",
    "y = np.random.rand(10)\n",
    "source = ColumnDataSource(data=dict(x=x, y=y))\n",
    "\n",
    "plot = figure(title=\"Real-Time Scatter Plot\")\n",
    "plot.scatter('x', 'y', source=source, size=10)\n",
    "\n",
    "def update():\n",
    "    new_data = dict(x=np.random.rand(10), y=np.random.rand(10))\n",
    "    source.data = new_data\n",
    "    push_notebook()\n",
    "\n",
    "button = Button(label=\"Update\", button_type=\"success\")\n",
    "button.on_click(update)\n",
    "\n",
    "layout = column(button, plot)\n",
    "\n",
    "show(layout, notebook_handle=True)"
   ]
  },
  {
   "attachments": {
    "0d6147a6-46a3-4331-90e8-ea1c1912ede7.png": {
     "image/png": "[encoded data removed]"
    }
   },
   "cell_type": "markdown",
   "id": "17ae5c52-5839-42f1-af62-9fbefb5e8366",
   "metadata": {},
   "source": [
    "![Q4.png](attachment:0d6147a6-46a3-4331-90e8-ea1c1912ede7.png)"
   ]
  },
  {
   "cell_type": "markdown",
   "id": "62535fab-036e-452f-bfe1-5067bac98fce",
   "metadata": {},
   "source": [
    "In this example, the Bokeh server is handling the real-time updates to the scatter plot's data source when the \"Update\" button is clicked. The **'push_notebook()'** function pushes the update to the Jupyter notebook's output cell, causing the plot to be updated in real time."
   ]
  },
  {
   "cell_type": "code",
   "execution_count": null,
   "id": "7806cad6-878d-442c-9d0a-bf7de2dbdec9",
   "metadata": {},
   "outputs": [],
   "source": []
  },
  {
   "cell_type": "markdown",
   "id": "195a2f6e-a92f-45ce-b796-28f441c645cb",
   "metadata": {},
   "source": [
    "##### Q5. How can you embed a Bokeh plot into a web page or dashboard using Flask or Django?"
   ]
  },
  {
   "cell_type": "markdown",
   "id": "345c79a8-9895-4f3c-8ac1-679011aff60d",
   "metadata": {},
   "source": [
    "Embedding a Bokeh plot into a web page or dashboard using Flask or Django involves integrating the Bokeh plot HTML code generated by Bokeh with the web framework's templates and views. Here's a general overview of how you can achieve this using both Flask and Django:\n",
    "\n",
    "##### Using Flask:\n",
    "**1. Install Flask and Bokeh:** If you haven't already, install Flask and Bokeh using **'pip install Flask bokeh'**.\n",
    "\n",
    "**2. Create a Flask App:** Create a Flask application with appropriate routes and views.\n",
    "\n",
    "**3. Generate Bokeh Plot HTML:** Use the Bokeh library to create the plot and generate the corresponding HTML code. You can use the **'components()'** function to get the JavaScript and HTML code required to embed the plot.\n",
    "\n",
    "**4. Render the Plot in Template:** Inside the Flask view, render an HTML template and inject the Bokeh plot components using the **'safe'** filter to prevent HTML escaping.\n",
    "\n",
    "**5. Run the Flask App:** Run the Flask app using **'app.run()'**.\n",
    "\n",
    "Here's a basic example:"
   ]
  },
  {
   "cell_type": "code",
   "execution_count": 17,
   "id": "dd7ececd-7e15-4c53-a939-b5a3d59e8ffd",
   "metadata": {},
   "outputs": [],
   "source": [
    "from flask import Flask, render_template\n",
    "from bokeh.plotting import figure, show\n",
    "from bokeh.embed import components\n",
    "import numpy as np\n",
    "\n",
    "app = Flask(__name__)\n",
    "\n",
    "@app.route('/')\n",
    "def index():\n",
    "    # Create a Bokeh plot\n",
    "    x = np.linspace(0, 10, 100)\n",
    "    y = np.sin(x)\n",
    "    p = figure(title=\"Bokeh Plot\", x_axis_label=\"X-axis\", y_axis_label=\"Y-axis\")\n",
    "    p.line(x, y)\n",
    "\n",
    "    # Get Bokeh plot components\n",
    "    script, div = components(p)\n",
    "\n",
    "    return render_template('index.html', script=script, div=div)\n",
    "\n",
    "if __name__ == '__main__':\n",
    "    app.run(debug=True)"
   ]
  },
  {
   "cell_type": "markdown",
   "id": "f5ae75ed-3494-4ef1-8e45-54cab1692a83",
   "metadata": {},
   "source": [
    "##### Using Django:\n",
    "**1. Install Django and Bokeh:** If you haven't already, install Django and Bokeh using **'pip install Django bokeh'**.\n",
    "\n",
    "**2. Create a Django Project and App:** Create a Django project and app structure using **'django-admin startproject projectname'** and **'python manage.py startapp appname'**.\n",
    "\n",
    "**3. Generate Bokeh Plot HTML:** Similar to Flask, use the Bokeh library to create the plot and generate the corresponding HTML code using the **'components()'** function.\n",
    "\n",
    "**4. Create a Django View:** Inside the Django app, create a view function that generates the Bokeh plot components and renders a template with the plot components.\n",
    "\n",
    "**5. Create a Template:** Create an HTML template that uses the **'safe'** filter to inject the Bokeh plot components.\n",
    "\n",
    "**6. Define URLs:** Define URLs in the Django **'urls.py'** file to map to the view function.\n",
    "\n",
    "**7. Run the Django Development Server:** Run the Django development server using **'python manage.py runserver'**.\n",
    "\n",
    "Here's a basic example:"
   ]
  },
  {
   "cell_type": "code",
   "execution_count": 16,
   "id": "3c367166-b361-475e-9b46-75abf4b30481",
   "metadata": {},
   "outputs": [],
   "source": [
    "from django.shortcuts import render\n",
    "from bokeh.plotting import figure, show\n",
    "from bokeh.embed import components\n",
    "from django.http import HttpResponse\n",
    "import numpy as np\n",
    "\n",
    "def plot(request):\n",
    "    # Create a Bokeh plot\n",
    "    x = np.linspace(0, 10, 100)\n",
    "    y = np.sin(x)\n",
    "    p = figure(title=\"Bokeh Plot\", x_axis_label=\"X-axis\", y_axis_label=\"Y-axis\")\n",
    "    p.line(x, y)\n",
    "\n",
    "    # Get Bokeh plot components\n",
    "    script, div = components(p)\n",
    "\n",
    "    context = {'script': script, 'div': div}\n",
    "    return render(request, 'plot.html', context)"
   ]
  }
 ],
 "metadata": {
  "kernelspec": {
   "display_name": "Python 3 (ipykernel)",
   "language": "python",
   "name": "python3"
  },
  "language_info": {
   "codemirror_mode": {
    "name": "ipython",
    "version": 3
   },
   "file_extension": ".py",
   "mimetype": "text/x-python",
   "name": "python",
   "nbconvert_exporter": "python",
   "pygments_lexer": "ipython3",
   "version": "3.10.8"
  }
 },
 "nbformat": 4,
 "nbformat_minor": 5
}
